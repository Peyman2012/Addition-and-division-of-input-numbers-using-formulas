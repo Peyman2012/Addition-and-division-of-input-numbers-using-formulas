{
 "cells": [
  {
   "cell_type": "code",
   "execution_count": 44,
   "metadata": {},
   "outputs": [
    {
     "name": "stdout",
     "output_type": "stream",
     "text": [
      "Enter x:12\n"
     ]
    }
   ],
   "source": [
    "x=int(input(\"Enter x:\"))"
   ]
  },
  {
   "cell_type": "code",
   "execution_count": 45,
   "metadata": {},
   "outputs": [],
   "source": [
    "s=1\n",
    "pow=1.0\n",
    "sum=0.0\n",
    "sum1=0.0"
   ]
  },
  {
   "cell_type": "code",
   "execution_count": 46,
   "metadata": {},
   "outputs": [
    {
     "name": "stdout",
     "output_type": "stream",
     "text": [
      "Sum is  0.08686113031787708\n"
     ]
    }
   ],
   "source": [
    "for i in range(1,11):\n",
    "    pow=pow*x\n",
    "    sum1=sum1+i * pow\n",
    "    sum=sum+s*1.0 / sum1\n",
    "    s==-s\n",
    "print(\"Sum is \",sum)"
   ]
  }
 ],
 "metadata": {
  "kernelspec": {
   "display_name": "Python 3",
   "language": "python",
   "name": "python3"
  },
  "language_info": {
   "codemirror_mode": {
    "name": "ipython",
    "version": 3
   },
   "file_extension": ".py",
   "mimetype": "text/x-python",
   "name": "python",
   "nbconvert_exporter": "python",
   "pygments_lexer": "ipython3",
   "version": "3.6.13"
  }
 },
 "nbformat": 4,
 "nbformat_minor": 2
}
